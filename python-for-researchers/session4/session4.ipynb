{
    "cells": [
     {
      "cell_type": "markdown",
      "metadata": {},
      "source": [
       "# Session 4: Working with Data in pandas\n",
       "\n",
       "**Objective:** Learn to manipulate and analyze data effectively using pandas.  \n",
       "Documentation: [pandas Getting Started](https://pandas.pydata.org/docs/getting_started/index.html)"
      ]
     },
     {
      "cell_type": "markdown",
      "metadata": {},
      "source": [
       "## 1. Importing Data from Various Sources\n",
       "Pandas provides convenient methods to import data from multiple sources."
      ]
     },
     {
      "cell_type": "code",
      "execution_count": null,
      "metadata": {},
      "outputs": [],
      "source": [
       "# Import piplite\n",
       "import piplite\n",
       "await piplite.install('openpyxl')"
      ]
     },
    {
      "cell_type": "code",
      "execution_count": null,
      "metadata": {},
      "outputs": [],
      "source": [
       "# Import pandas\n",
       "import pandas as pd"
      ]
     },
     {
      "cell_type": "code",
      "execution_count": null,
      "metadata": {},
      "outputs": [],
      "source": [
       "# CSV File\n",
       "df_csv = pd.read_csv('data.csv')  # Replace with actual file path\n",
       "df_csv.head()"
      ]
     },
     {
      "cell_type": "code",
      "execution_count": null,
      "metadata": {},
      "outputs": [],
      "source": [
       "# Excel File\n",
       "df_excel = pd.read_excel('data.xlsx', sheet_name='Sheet1')  # Requires openpyxl or xlrd\n",
       "df_excel.head()"
      ]
     },
     {
      "cell_type": "code",
      "execution_count": null,
      "metadata": {},
      "outputs": [],
      "source": [
       "# JSON File\n",
       "df_json = pd.read_json('data.json')\n",
       "df_json.head()"
      ]
     },
     {
      "cell_type": "code",
      "execution_count": null,
      "metadata": {},
      "outputs": [],
      "source": [
       "# SQL Database\n",
       "import sqlite3\n",
       "connection = sqlite3.connect('database.db')\n",
       "df_sql = pd.read_sql('SELECT * FROM table_name', connection)\n",
       "df_sql.head()"
      ]
     },
     {
      "cell_type": "markdown",
      "metadata": {},
      "source": [
       "## 2. Exploring Data\n",
       "Basic functions to understand your data quickly."
      ]
     },
     {
      "cell_type": "code",
      "execution_count": null,
      "metadata": {},
      "outputs": [],
      "source": [
       "# Display first rows\n",
       "df_csv.head()"
      ]
     },
     {
      "cell_type": "code",
      "execution_count": null,
      "metadata": {},
      "outputs": [],
      "source": [
       "# Summary statistics\n",
       "df_csv.describe()"
      ]
     },
     {
      "cell_type": "code",
      "execution_count": null,
      "metadata": {},
      "outputs": [],
      "source": [
       "# Metadata info\n",
       "df_csv.info()"
      ]
     },
     {
      "cell_type": "markdown",
      "metadata": {},
      "source": [
       "## 3. Cleaning and Transforming Data\n",
       "Common data cleaning tasks with pandas."
      ]
     },
     {
      "cell_type": "code",
      "execution_count": null,
      "metadata": {},
      "outputs": [],
      "source": [
       "# Fill missing values\n",
       "if 'column_name' in df_csv.columns:\n",
       "    df_csv['column_name'].fillna(df_csv['column_name'].mean(), inplace=True)"
      ]
     },
     {
      "cell_type": "code",
      "execution_count": null,
      "metadata": {},
      "outputs": [],
      "source": [
       "# Remove duplicates\n",
       "df_csv.drop_duplicates(inplace=True)"
      ]
     },
     {
      "cell_type": "code",
      "execution_count": null,
      "metadata": {},
      "outputs": [],
      "source": [
       "# Rename columns\n",
       "df_csv.rename(columns={'old_column': 'new_column'}, inplace=True)"
      ]
     },
     {
      "cell_type": "code",
      "execution_count": null,
      "metadata": {},
      "outputs": [],
      "source": [
       "# Change data types\n",
       "if 'date_column' in df_csv.columns:\n",
       "    df_csv['date_column'] = pd.to_datetime(df_csv['date_column'])"
      ]
     },
     {
      "cell_type": "code",
      "execution_count": null,
      "metadata": {},
      "outputs": [],
      "source": [
       "# Filter rows based on a condition\n",
       "if 'column_name' in df_csv.columns:\n",
       "    filtered_df = df_csv[df_csv['column_name'] > 50]\n",
       "    filtered_df.head()"
      ]
     },
     {
      "cell_type": "markdown",
      "metadata": {},
      "source": [
       "## Activity: Load and Clean a Dataset Using pandas"
      ]
     },
     {
      "cell_type": "code",
      "execution_count": null,
      "metadata": {},
      "outputs": [],
      "source": [
       "try:\n",
       "    df = pd.read_csv('sample_data.csv')\n",
       "    df.dropna(subset=['important_column'], inplace=True)\n",
       "    df.rename(columns={'old_name': 'new_name'}, inplace=True)\n",
       "    df = df[df['score'] > 70]\n",
       "    print(\"Cleaned Dataset:\")\n",
       "    print(df.head())\n",
       "except FileNotFoundError:\n",
       "    print(\"sample_data.csv not found. Please make sure the file exists in the working directory.\")"
      ]
     }
    ],
    "metadata": {
     "kernelspec": {
      "display_name": "Python 3",
      "language": "python",
      "name": "python3"
     },
     "language_info": {
      "name": "python",
      "version": ""
     }
    },
    "nbformat": 4,
    "nbformat_minor": 5
   }
   
